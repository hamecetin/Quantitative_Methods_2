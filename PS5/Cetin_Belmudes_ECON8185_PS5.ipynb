{
 "cells": [
  {
   "cell_type": "code",
   "execution_count": 1,
   "metadata": {},
   "outputs": [],
   "source": [
    "import quantecon as qe\n",
    "import numpy as np\n",
    "import matplotlib.pyplot as plt\n",
    "from scipy.interpolate import CubicSpline\n",
    "from scipy import optimize\n",
    "import pandas as pd\n",
    "from scipy.optimize import fsolve"
   ]
  },
  {
   "attachments": {},
   "cell_type": "markdown",
   "metadata": {},
   "source": [
    "#### Problem Set 5: Solving Aiyagari Model\n",
    "\n",
    "##### Hasan Cetin, Lucas Belmudes\n",
    "\n",
    "---"
   ]
  },
  {
   "attachments": {},
   "cell_type": "markdown",
   "metadata": {},
   "source": [
    "### The Problem\n",
    "\n",
    "The Bellmann equation of the consumer is the following:\n",
    "\n",
    "$$ T(V_n)(l,k) = \\max_{k'} \\left \\{ \\dfrac{(z-k')^{1-α}}{1-α} + \\mathbb{E} \\left \\{ V_n(l',k') | l \\right \\} \\right \\}$$\n",
    "$$\\text{s.t.   } 0 \\leq k' \\leq z$$\n",
    "$$\\text{where   } z = wl + (1+r)k$$\n",
    "$$w = (1-θ)\\dfrac{K^{α}}{L}, \\;\\; r = θ \\dfrac{K^{-α}}{L} $$\n",
    "\n",
    "- Assume measure 1 of consumers\n",
    "\n",
    "- We will assume $l$ is an i.i.d. idiosyncratic process centered at 1. (iid for simplicity, idiosyncracy by Aiyagari Model)\n",
    "\n",
    "- Thus $L = 1$  and $w,r$ depends only on $K^D$: capital demand.\n",
    "\n",
    "- $K^S$: capital supply is provided by the consumers/households.\n",
    "\n",
    "- We will use EGM as in HW4 to solve the consumption-savings problem.\n",
    "\n",
    "#### The algorithmus\n",
    "\n",
    "1. Start $K^D$ from $K_{grid}$ and calculate prices $w,r$\n",
    "\n",
    "2. Solve consumption-savings problem (we used EGM for efficiency) and get $V^*$ and corresponding $Γ^*$\n",
    "\n",
    "3. Start a simulation for N agents starting from some $k_0$ by creating an $N$ x $T$ shock grid and use $Γ^*$ to simulate their path.\n",
    "     -  NOTE: Use same shocks for each iteration!!!!!\n",
    "     -  NOTE: Since this shock grid will use too much RAM size (if T = 20000, N = 1000, then size = 20000 x 1000 x 8 byte = 16 x $10^8$ = 1.6 GB), after calculating path, erase this shock grid and use a seed to create the same shock grid again.\n",
    "\n",
    "4. $K^S = \\dfrac{\\sum_{i=1}^{N} k_i^T}{N}$\n",
    "\n",
    "5. If $K^S > K^D$ increase $K^D$ (i.e. go to next value in the $K_{grid}$ for $K^D$)\n",
    "     - NOTE: Check the following two cases first:\n",
    "          - If $K^D > K^S$ even for $K^D = K_{grid}[0]$ then decrease your $K_{grid}$ immediately and start again.\n",
    "          - If $K^D < K^S$ even for $K^D = K_{grid}[max]$ then increase your $K_{grid}[max]$ immediately and start again.\n",
    "     - NOTE: If $K^D > K^S$ for some in $K_{grid}$ and $K^D < K^S$ for others in $K_{grid}$ but still no convergence, use finer $K_{grid}$\n",
    "\n",
    "6. Iterate this process until market clearence: $max(|K^S - K^D|) < ϵ$\n",
    "\n",
    "7. If no convergence, make your $K_{grid}$ finer.\n",
    "\n"
   ]
  },
  {
   "cell_type": "code",
   "execution_count": 229,
   "metadata": {},
   "outputs": [],
   "source": [
    "# Define Parameters:\n",
    "\n",
    "N = 100   # Number of agents for simulation\n",
    "T = 20000 # Number of periods for simulation\n",
    "n_k = 500 # Grids for capitals\n",
    "n_A = 19  # Markov States.\n",
    "α = 0.7   # Capital Share.\n",
    "ρ = 0.95  # Memory of income\n",
    "σ = 0.05   # Volatility of income.\n",
    "γ = 2     # Risk aversion\n",
    "β = 0.96  # Discont factor.\n",
    "θ = 1     # Expanding grid coefficient.\n",
    "error = 10e-6   # Error tolerance.\n",
    "max_iter = 1000 # Maximum iteration\n",
    "\n",
    "delta = 10e-4   #To differentiate the value function\n",
    "\n",
    "np.random.seed(1234) #We are using a seed to generate the same shock grid each time\n",
    "\n",
    "#Create aux variables for iteration\n",
    "dist = 1000\n",
    "iteration = 0\n",
    "\n",
    "#Discretizing shocks\n",
    "markov = qe.markov.approximation.rouwenhorst(n= n_A, ybar = 0, sigma=σ, rho= ρ)\n",
    "Π = markov.P   \n",
    "A = np.exp(markov.state_values)\n",
    "\n",
    "#To be able to simulate the income shock process we will create cumulative prob matrix Π_sim\n",
    "Π_sim = np.zeros((n_A, n_A))\n",
    "for i in range(n_A):\n",
    "    sum = 0\n",
    "    for j in range(n_A):\n",
    "        sum += Π[i,j] \n",
    "        Π_sim[i,j] = sum\n",
    "\n",
    "# Maximum sustainable Capital:\n",
    "K_max = 400\n",
    "K_min = 0.01\n",
    "\n",
    "# Use and expanding grid for more accuracy:\n",
    "K_grid = K_min + (K_max - K_min) * (np.linspace(0, 1, n_k)**θ)"
   ]
  },
  {
   "attachments": {},
   "cell_type": "markdown",
   "metadata": {},
   "source": [
    "Check Kd such that $β(1+r) < 1$\n",
    "Check $\\bar A = Π_{ss} * A$ and in your w,r calculations \n"
   ]
  },
  {
   "cell_type": "code",
   "execution_count": 230,
   "metadata": {},
   "outputs": [
    {
     "name": "stdout",
     "output_type": "stream",
     "text": [
      "dist =  3.9138177176963547\n",
      "iteration =  1\n",
      "dist =  3.57566058272754\n",
      "iteration =  2\n",
      "dist =  3.1352812370631042\n",
      "iteration =  3\n",
      "dist =  2.7023360097517877\n",
      "iteration =  4\n",
      "dist =  2.300771544554877\n",
      "iteration =  5\n",
      "dist =  1.9374865753249146\n",
      "iteration =  6\n",
      "dist =  12.77238260951424\n",
      "iteration =  7\n",
      "dist =  232.6435904096321\n",
      "iteration =  8\n"
     ]
    },
    {
     "name": "stderr",
     "output_type": "stream",
     "text": [
      "/var/folders/c_/9slv16s13p50vtr162z5f8th0000gn/T/ipykernel_97745/2567803530.py:31: RuntimeWarning: invalid value encountered in power\n",
      "  c_star[i,:] = ((V_spline(K_grid + delta) - V_spline(K_grid - delta))/ (2*delta))**(-1/γ)\n"
     ]
    },
    {
     "ename": "ValueError",
     "evalue": "`x` must contain only finite values.",
     "output_type": "error",
     "traceback": [
      "\u001b[0;31m---------------------------------------------------------------------------\u001b[0m",
      "\u001b[0;31mValueError\u001b[0m                                Traceback (most recent call last)",
      "\u001b[1;32m/Users/hamecetin/Documents/GitHub/Quantitative_Methods_2/PS5/Cetin_Belmudes_ECON8185_PS5.ipynb Cell 5\u001b[0m in \u001b[0;36m<cell line: 1>\u001b[0;34m()\u001b[0m\n\u001b[1;32m     <a href='vscode-notebook-cell:/Users/hamecetin/Documents/GitHub/Quantitative_Methods_2/PS5/Cetin_Belmudes_ECON8185_PS5.ipynb#X14sZmlsZQ%3D%3D?line=45'>46</a>\u001b[0m     V_i_sorted \u001b[39m=\u001b[39m V_i[sort_index]\n\u001b[1;32m     <a href='vscode-notebook-cell:/Users/hamecetin/Documents/GitHub/Quantitative_Methods_2/PS5/Cetin_Belmudes_ECON8185_PS5.ipynb#X14sZmlsZQ%3D%3D?line=47'>48</a>\u001b[0m     \u001b[39m#Step 6: Interpolate to get on grid values\u001b[39;00m\n\u001b[0;32m---> <a href='vscode-notebook-cell:/Users/hamecetin/Documents/GitHub/Quantitative_Methods_2/PS5/Cetin_Belmudes_ECON8185_PS5.ipynb#X14sZmlsZQ%3D%3D?line=48'>49</a>\u001b[0m     interpolation \u001b[39m=\u001b[39m CubicSpline(Y_i_sorted, V_i_sorted)\n\u001b[1;32m     <a href='vscode-notebook-cell:/Users/hamecetin/Documents/GitHub/Quantitative_Methods_2/PS5/Cetin_Belmudes_ECON8185_PS5.ipynb#X14sZmlsZQ%3D%3D?line=49'>50</a>\u001b[0m     Realvalue[i,:] \u001b[39m=\u001b[39m interpolation(Y_prime[i,:])\n\u001b[1;32m     <a href='vscode-notebook-cell:/Users/hamecetin/Documents/GitHub/Quantitative_Methods_2/PS5/Cetin_Belmudes_ECON8185_PS5.ipynb#X14sZmlsZQ%3D%3D?line=51'>52</a>\u001b[0m \u001b[39m#Step 7: Update your value\u001b[39;00m\n",
      "File \u001b[0;32m~/opt/anaconda3/lib/python3.8/site-packages/scipy/interpolate/_cubic.py:629\u001b[0m, in \u001b[0;36mCubicSpline.__init__\u001b[0;34m(self, x, y, axis, bc_type, extrapolate)\u001b[0m\n\u001b[1;32m    628\u001b[0m \u001b[39mdef\u001b[39;00m \u001b[39m__init__\u001b[39m(\u001b[39mself\u001b[39m, x, y, axis\u001b[39m=\u001b[39m\u001b[39m0\u001b[39m, bc_type\u001b[39m=\u001b[39m\u001b[39m'\u001b[39m\u001b[39mnot-a-knot\u001b[39m\u001b[39m'\u001b[39m, extrapolate\u001b[39m=\u001b[39m\u001b[39mNone\u001b[39;00m):\n\u001b[0;32m--> 629\u001b[0m     x, dx, y, axis, _ \u001b[39m=\u001b[39m prepare_input(x, y, axis)\n\u001b[1;32m    630\u001b[0m     n \u001b[39m=\u001b[39m \u001b[39mlen\u001b[39m(x)\n\u001b[1;32m    632\u001b[0m     bc, y \u001b[39m=\u001b[39m \u001b[39mself\u001b[39m\u001b[39m.\u001b[39m_validate_bc(bc_type, y, y\u001b[39m.\u001b[39mshape[\u001b[39m1\u001b[39m:], axis)\n",
      "File \u001b[0;32m~/opt/anaconda3/lib/python3.8/site-packages/scipy/interpolate/_cubic.py:52\u001b[0m, in \u001b[0;36mprepare_input\u001b[0;34m(x, y, axis, dydx)\u001b[0m\n\u001b[1;32m     48\u001b[0m     \u001b[39mraise\u001b[39;00m \u001b[39mValueError\u001b[39;00m(\u001b[39m\"\u001b[39m\u001b[39mThe length of `y` along `axis`=\u001b[39m\u001b[39m{0}\u001b[39;00m\u001b[39m doesn\u001b[39m\u001b[39m'\u001b[39m\u001b[39mt \u001b[39m\u001b[39m\"\u001b[39m\n\u001b[1;32m     49\u001b[0m                      \u001b[39m\"\u001b[39m\u001b[39mmatch the length of `x`\u001b[39m\u001b[39m\"\u001b[39m\u001b[39m.\u001b[39mformat(axis))\n\u001b[1;32m     51\u001b[0m \u001b[39mif\u001b[39;00m \u001b[39mnot\u001b[39;00m np\u001b[39m.\u001b[39mall(np\u001b[39m.\u001b[39misfinite(x)):\n\u001b[0;32m---> 52\u001b[0m     \u001b[39mraise\u001b[39;00m \u001b[39mValueError\u001b[39;00m(\u001b[39m\"\u001b[39m\u001b[39m`x` must contain only finite values.\u001b[39m\u001b[39m\"\u001b[39m)\n\u001b[1;32m     53\u001b[0m \u001b[39mif\u001b[39;00m \u001b[39mnot\u001b[39;00m np\u001b[39m.\u001b[39mall(np\u001b[39m.\u001b[39misfinite(y)):\n\u001b[1;32m     54\u001b[0m     \u001b[39mraise\u001b[39;00m \u001b[39mValueError\u001b[39;00m(\u001b[39m\"\u001b[39m\u001b[39m`y` must contain only finite values.\u001b[39m\u001b[39m\"\u001b[39m)\n",
      "\u001b[0;31mValueError\u001b[0m: `x` must contain only finite values."
     ]
    }
   ],
   "source": [
    "for Kd_index, Kd in enumerate(K_grid[-1::-1]):\n",
    "    #Calculate the prices first:\n",
    "    w = (1-α)*(Kd**(α))\n",
    "    r = α * (Kd**(α-1))\n",
    "    \n",
    "    #Given Prices, solve the consumption-saving problem:\n",
    "    #Step 0: Some necessary matrices for EGM.\n",
    "    V_k = np.zeros((n_A,n_k))\n",
    "    c_star = np.zeros((n_A,n_k))\n",
    "    Y_star = np.zeros((n_A,n_k))\n",
    "    value = np.zeros((n_A,n_k))\n",
    "    Realvalue = np.zeros((n_A,n_k))\n",
    "\n",
    "    #Step 1: Creating on grid cash in hands matrix for tomorrow (i.e. z')\n",
    "    Y_prime = np.zeros((n_A,n_k))\n",
    "    for i in range(n_A):\n",
    "        for j in range(n_k):\n",
    "            Y_prime[i,j] = A[i]*w + K_grid[j]*(1+r)\n",
    "\n",
    "    #Step 2: Initial guess\n",
    "    V_0 = np.zeros((n_A,n_k))\n",
    "    for i in range(n_A):\n",
    "        for j in range(n_k):\n",
    "            V_0[i,j] = ((A[i]*w + K_grid[j]*(1+r))**(1-γ))/(1-γ)\n",
    "\n",
    "    #Finding the value function\n",
    "    while dist > error and iteration < max_iter:\n",
    "        for i in range(n_A):\n",
    "            #Step 3: Doing the numerical derivative of the value matrix wrt k to get c_star\n",
    "            V_spline = CubicSpline(K_grid,V_0[i,:])\n",
    "            c_star[i,:] = ((V_spline(K_grid + delta) - V_spline(K_grid - delta))/ (2*delta))**(-1/γ)\n",
    "        \n",
    "        #Step 4: Finding Y_star (Today's cash in hands)\n",
    "        Y_star = c_star + K_grid\n",
    "        \n",
    "        #Step 5: Finding corresponding values to the consumption\n",
    "        Values = (c_star ** (1-γ))/(1-γ) + V_0\n",
    "        \n",
    "        for i in range(n_A):\n",
    "            Y_i = Y_star[i,:]\n",
    "            V_i = Values[i,:]\n",
    "\n",
    "            #We need to sort Y_star to be able to interpolate\n",
    "            sort_index = np.argsort(Y_i)\n",
    "            Y_i_sorted = Y_i[sort_index]\n",
    "            V_i_sorted = V_i[sort_index]\n",
    "\n",
    "            #Step 6: Interpolate to get on grid values\n",
    "            interpolation = CubicSpline(Y_i_sorted, V_i_sorted)\n",
    "            Realvalue[i,:] = interpolation(Y_prime[i,:])\n",
    "\n",
    "        #Step 7: Update your value\n",
    "        V_1 = β * np.dot(Π, Realvalue)\n",
    "\n",
    "        #Step 8: Check your\n",
    "        dist = np.max(np.abs(V_1 - V_0))\n",
    "        iteration += 1\n",
    "        print(\"dist = \", dist)\n",
    "        print(\"iteration = \", iteration)\n",
    "        #Step 7: Update your value\n",
    "        V_0 = V_1.copy()\n",
    "\n",
    "        #Checking convergence of the value function\n",
    "        if iteration > max_iter - 1:\n",
    "            print(\"VFI does not converge\")\n",
    "            break\n",
    "\n",
    "    #Step 8: Find the policy function\n",
    "    k_policy = np.zeros((n_A,n_k))    #Real k'\n",
    "    policy_index = np.zeros((n_A,n_k))#To find the index of policies for simulation\n",
    "    for i in range(n_A):\n",
    "        for j in range(n_k):\n",
    "            def f(k, z=A[i], y_star=Y_star[i,j]):\n",
    "                return z * k**α + (1-δ)*k - y_star\n",
    "            k_policy[i,j] = fsolve(f,K_grid[0])\n",
    "    #Step 9: Find the index matrix of the policy function for the simulation\n",
    "    for i in range(n_A):\n",
    "        for j in range(n_k):\n",
    "            Grid = k_policy[i,j] - K_grid #We will use the closest point in K_grid to the real k'\n",
    "            policy_index[i,j] = np.searchsorted(Grid,0)\n",
    "\n",
    "    #Step 10: Simulation to find Ks\n",
    "    #Create income shock simulation, need to use uniform rv to be able to use Π Markov Process\n",
    "    Shock_sim = np.random.uniform(size=(N,T))\n",
    "    \n",
    "    #Create Income simulation (it gives the income shock indexes) and Policy simulation\n",
    "    Income_sim = np.zeros((N,T+1))\n",
    "    K_sim = np.zeros((N,T+1))\n",
    "    \n",
    "    #Assume each agent starts with mean income and 0 capital\n",
    "    Income_sim[:,0] = n_A//2\n",
    "    K_sim[:,0] = 0\n",
    "\n",
    "    for n in range(N):\n",
    "        for t in range(T):\n",
    "            #Finding the income simulation\n",
    "            new_shock = np.searchsorted(Π_sim[Income_sim[n,t],:], Shock_sim[n,t])\n",
    "            Income_sim[n,t+1] = new_shock\n",
    "\n",
    "            #In case np.searchsorted() function messes up\n",
    "            #It is 0 possibility but if the uniform shock is exactly 1 then function messes up\n",
    "            if new_shock >= n_A: \n",
    "                print(\"np.searchsorted is messed up!\")\n",
    "                break\n",
    "\n",
    "            #Given income shock find the policy simulation\n",
    "            K_sim[n,t+1] = policy_index[Income_sim[n,t],K_sim[n,t]]\n",
    "  \n",
    "    #Step 11: Calculate Ks\n",
    "    Ks = np.sum(K_grid[K_sim[:,-1]])/N\n",
    "\n",
    "    #Step 12: Check market clearence\n",
    "    Diff = Ks - Kd \n",
    "    if Diff < 0:\n",
    "        print(\"Ks < Kd\")\n",
    "        break\n",
    "    elif Kd_index % 10 == 0:\n",
    "        print(\"iteration: \", Kd_index)\n",
    "        print(\"Difference: \", Diff)\n",
    "\n",
    "    # If Market clears finish the program \n",
    "    if Diff < error:\n",
    "        w_eq, r_eq = w, r #Equilibrium Prices\n",
    "        Kd_eq = Kd        #Equilibrium Capital\n",
    "        Sim_path_eq = K_sim #Simulation path in equilibrium prices\n",
    "        break\n",
    "    \n",
    "    # To create a space in our beloved RAM, we erase this gigantic simulation grids. \n",
    "    del Shock_sim\n",
    "    del Income_sim\n",
    "    del K_sim"
   ]
  },
  {
   "attachments": {},
   "cell_type": "markdown",
   "metadata": {},
   "source": [
    "Note that `np.searchsorted()` to find income shock is essentially wrong. Why? because let's say the uniform number is 0.68 and it is between to indexes in Π_sim of 0.67 and 0.7. `np.searchsorted()` would give the index of 0.67 but the correct index is of 0.7's because these are cumulative probabilities. But since we are using high N and T and since these type of cases are minimal, we ignore this problem."
   ]
  },
  {
   "cell_type": "code",
   "execution_count": 109,
   "metadata": {},
   "outputs": [],
   "source": [
    "# VFI with Howard (a.k.a PFI):\n",
    "# Define Parameters:\n",
    "N = 100         # Number of agents for simulation\n",
    "T = 20000       # Number of periods for simulation\n",
    "n_k = 1000       # Grids for capitals\n",
    "n_A = 19        # Markov States.\n",
    "α = 0.7         # Capital Share.\n",
    "ρ = 0.95        # Memory of income\n",
    "σ = 0.05         # Volatility of income.\n",
    "σ_eps = np.sqrt(σ * (1-ρ**2)) #Standard deviation of the innovation\n",
    "γ = 2           # Risk aversion\n",
    "β = 0.96        # Discount factor.\n",
    "δ = 1           # Depreciation rate\n",
    "θ = 1           # Expanding grid coefficient.\n",
    "error = 10e-6   # Error tolerance.\n",
    "max_iter = 1000 # Maximum iteration\n",
    "delta = 10e-4   # To differentiate the value function\n",
    "λ = (1-β)/β     # Lambda\n",
    "\n",
    "L = np.exp((σ_eps**2)/(2*(1-ρ**2))) # Labor size\n",
    "\n",
    "Kd_min = ((1+λ)/α)**(1/(α-1)) * L # Min Kd \n",
    "\n",
    "# Use a seed to generate the same shock grid each time:\n",
    "np.random.seed(1234) \n",
    "\n",
    "# Capital grid boundaries:\n",
    "Ks_max = 20\n",
    "Ks_min = 0.01\n",
    "\n",
    "# Use and expanding grid to findd Capital Supply:\n",
    "K_grid = Ks_min + (Ks_max - Ks_min) * (np.linspace(0, 1, n_k)**θ)\n",
    "\n",
    "# Utility function\n",
    "def U(c):\n",
    "    if (c>=0).all()>0.0001:\n",
    "        return ((c)**(1-γ))/(1-γ)\n",
    "    else:\n",
    "        return np.where(c <= 0.00001, -np.inf, -1*(c)**(-1))\n",
    "\n",
    "# Discretizing the income shock:\n",
    "markov = qe.markov.approximation.rouwenhorst(n= n_A, ybar = 1-ρ, sigma=σ, rho= ρ)\n",
    "\n",
    "# Probability matrix and states:\n",
    "# note that element (i,j) of P represents the transition probability\n",
    "# of going to state \"j\" given that we are in state \"i\".\n",
    "Π = markov.P   \n",
    "A = markov.state_values  \n",
    "\n",
    "# Steady state of transition matrix\n",
    "Π_ss = Π.copy()\n",
    "for i in range(1000):\n",
    "    Π_ss =  np.dot(Π, Π_ss).copy()\n",
    "\n",
    "# To be able to simulate the income shock process we will create cumulative prob matrix Π_sim\n",
    "Π_sim = np.zeros((n_A, n_A))\n",
    "for i in range(n_A):\n",
    "    sum = 0\n",
    "    for j in range(n_A):\n",
    "        sum += Π[i,j] \n",
    "        Π_sim[i,j] = sum\n",
    "\n",
    "# A flag variable to break the code if necessary\n",
    "break_flag = False"
   ]
  },
  {
   "cell_type": "code",
   "execution_count": 110,
   "metadata": {},
   "outputs": [
    {
     "name": "stdout",
     "output_type": "stream",
     "text": [
      "dist:  181.0287743228124\n",
      "dist:  181.0287743228124\n",
      "dist:  181.0287743228124\n",
      "dist:  181.0287743228124\n"
     ]
    },
    {
     "ename": "KeyboardInterrupt",
     "evalue": "",
     "output_type": "error",
     "traceback": [
      "\u001b[0;31m---------------------------------------------------------------------------\u001b[0m",
      "\u001b[0;31mKeyboardInterrupt\u001b[0m                         Traceback (most recent call last)",
      "\u001b[1;32m/Users/hamecetin/Documents/GitHub/Quantitative_Methods_2/PS5/Cetin_Belmudes_ECON8185_PS5.ipynb Cell 9\u001b[0m in \u001b[0;36m<cell line: 14>\u001b[0;34m()\u001b[0m\n\u001b[1;32m     <a href='vscode-notebook-cell:/Users/hamecetin/Documents/GitHub/Quantitative_Methods_2/PS5/Cetin_Belmudes_ECON8185_PS5.ipynb#Y140sZmlsZQ%3D%3D?line=16'>17</a>\u001b[0m     \u001b[39mfor\u001b[39;00m k \u001b[39min\u001b[39;00m \u001b[39mrange\u001b[39m(n_k):\n\u001b[1;32m     <a href='vscode-notebook-cell:/Users/hamecetin/Documents/GitHub/Quantitative_Methods_2/PS5/Cetin_Belmudes_ECON8185_PS5.ipynb#Y140sZmlsZQ%3D%3D?line=17'>18</a>\u001b[0m         V_1[z,k] \u001b[39m=\u001b[39m np\u001b[39m.\u001b[39mnanmax(U(A[z] \u001b[39m*\u001b[39m w \u001b[39m+\u001b[39m K_grid[k] \u001b[39m*\u001b[39m (\u001b[39m1\u001b[39m\u001b[39m+\u001b[39mr) \u001b[39m-\u001b[39m K_grid) \u001b[39m+\u001b[39m β \u001b[39m*\u001b[39m Π[z,:] \u001b[39m@\u001b[39m V_0)\n\u001b[0;32m---> <a href='vscode-notebook-cell:/Users/hamecetin/Documents/GitHub/Quantitative_Methods_2/PS5/Cetin_Belmudes_ECON8185_PS5.ipynb#Y140sZmlsZQ%3D%3D?line=18'>19</a>\u001b[0m         Γ[z,k] \u001b[39m=\u001b[39m np\u001b[39m.\u001b[39;49mnanargmax(U(A[z] \u001b[39m*\u001b[39;49m w \u001b[39m+\u001b[39;49m K_grid[k] \u001b[39m*\u001b[39;49m (\u001b[39m1\u001b[39;49m\u001b[39m+\u001b[39;49mr) \u001b[39m-\u001b[39;49m K_grid) \u001b[39m+\u001b[39;49m β \u001b[39m*\u001b[39;49m Π[z,:] \u001b[39m@\u001b[39;49m V_0)\n\u001b[1;32m     <a href='vscode-notebook-cell:/Users/hamecetin/Documents/GitHub/Quantitative_Methods_2/PS5/Cetin_Belmudes_ECON8185_PS5.ipynb#Y140sZmlsZQ%3D%3D?line=20'>21</a>\u001b[0m \u001b[39m# Howard Steps\u001b[39;00m\n\u001b[1;32m     <a href='vscode-notebook-cell:/Users/hamecetin/Documents/GitHub/Quantitative_Methods_2/PS5/Cetin_Belmudes_ECON8185_PS5.ipynb#Y140sZmlsZQ%3D%3D?line=21'>22</a>\u001b[0m m \u001b[39m=\u001b[39m \u001b[39m10\u001b[39m \u001b[39m# Howard step size\u001b[39;00m\n",
      "File \u001b[0;32m<__array_function__ internals>:5\u001b[0m, in \u001b[0;36mnanargmax\u001b[0;34m(*args, **kwargs)\u001b[0m\n",
      "File \u001b[0;32m~/opt/anaconda3/lib/python3.8/site-packages/numpy/lib/nanfunctions.py:546\u001b[0m, in \u001b[0;36mnanargmax\u001b[0;34m(a, axis)\u001b[0m\n\u001b[1;32m    544\u001b[0m a, mask \u001b[39m=\u001b[39m _replace_nan(a, \u001b[39m-\u001b[39mnp\u001b[39m.\u001b[39minf)\n\u001b[1;32m    545\u001b[0m res \u001b[39m=\u001b[39m np\u001b[39m.\u001b[39margmax(a, axis\u001b[39m=\u001b[39maxis)\n\u001b[0;32m--> 546\u001b[0m \u001b[39mif\u001b[39;00m mask \u001b[39mis\u001b[39;49;00m \u001b[39mnot\u001b[39;49;00m \u001b[39mNone\u001b[39;49;00m:\n\u001b[1;32m    547\u001b[0m     mask \u001b[39m=\u001b[39m np\u001b[39m.\u001b[39mall(mask, axis\u001b[39m=\u001b[39maxis)\n\u001b[1;32m    548\u001b[0m     \u001b[39mif\u001b[39;00m np\u001b[39m.\u001b[39many(mask):\n",
      "\u001b[0;31mKeyboardInterrupt\u001b[0m: "
     ]
    }
   ],
   "source": [
    "Kd = Kd_min\n",
    "\n",
    "# Step 1: Calculate the prices given Kd:\n",
    "w = (1-α)*((Kd/L)**(α))\n",
    "r = α * ((Kd/L)**(α-1)) - δ\n",
    "\n",
    "# Step 2: Define initial values to calculate PFI:\n",
    "V_0 = np.ones((n_A, n_k))\n",
    "V_1 = np.copy(V_0)\n",
    "Γ = np.ones((n_A, n_k), dtype=int)\n",
    "iter = 0\n",
    "\n",
    "# Step 3: Use PFI to find the value and policy function of the consumer given prices w,r\n",
    "while iter < max_iter:\n",
    "    # Finding Policy function\n",
    "    for z in range(n_A):\n",
    "        for k in range(n_k):\n",
    "            V_1[z,k] = np.nanmax(U(A[z] * w + K_grid[k] * (1+r) - K_grid) + β * Π[z,:] @ V_0)\n",
    "            Γ[z,k] = np.nanargmax(U(A[z] * w + K_grid[k] * (1+r) - K_grid) + β * Π[z,:] @ V_0)\n",
    "\n",
    "    # Howard Steps\n",
    "    m = 10 # Howard step size\n",
    "    for i in range(m):\n",
    "        for z in range(n_A):\n",
    "            for k in range(n_k):\n",
    "                V_1[z,k] = U(A[z] * w + K_grid[k] * (1+r) - K_grid[Γ[z,k]]) + β * Π[z,:] @ V_1[:,Γ[z,k]]        \n",
    "    \n",
    "    # Checking convergence\n",
    "    if np.amax(np.abs(V_1 - V_0))< error:\n",
    "        # print(\"Solution Found\")\n",
    "        # print(f'Iterations', iter)\n",
    "        # print(f'Error', np.amax(np.abs(V_1 - V_0)))\n",
    "        break\n",
    "    elif iter % 5 == 0:\n",
    "        print(\"dist: \",np.amax(np.abs(V_1 - V_0)))\n",
    "    else:\n",
    "        V_0 = np.copy(V_1)\n",
    "        iter += 1\n",
    "        if iter >= max_iter:\n",
    "            break_flag = True\n",
    "            break\n"
   ]
  },
  {
   "cell_type": "code",
   "execution_count": null,
   "metadata": {},
   "outputs": [],
   "source": [
    "# Simulation to find Ks\n",
    "# Step 4: Create income shock simulation, need to use uniform rv to be able to use Π Markov Process\n",
    "Income_sim = np.random.choice(np.arange(0,n_A), size=(N,T), p=Π_ss)"
   ]
  },
  {
   "cell_type": "code",
   "execution_count": null,
   "metadata": {},
   "outputs": [],
   "source": [
    "K_sim = np.zeros((N,T+1)).astype(int)"
   ]
  },
  {
   "cell_type": "code",
   "execution_count": null,
   "metadata": {},
   "outputs": [],
   "source": [
    "for n in range(N):\n",
    "    for t in range(T):\n",
    "        K_sim[n,t+1] = Γ[Income_sim[n,t], K_sim[n,t]]"
   ]
  },
  {
   "cell_type": "code",
   "execution_count": null,
   "metadata": {},
   "outputs": [],
   "source": [
    "\n",
    "\n",
    "# Step 5: Create Income simulation grid (it gives the income shock indexes) and Policy simulation grid\n",
    "\n",
    "K_sim = np.zeros((N,T+1)).astype(int)\n",
    "\n",
    "# Assumption: Assume each agent starts with mean income and least capital possible\n",
    "Income_sim[:,0] = int(n_A//2)\n",
    "K_sim[:,0] = 0\n",
    "\n",
    "\n",
    "\n",
    "# Given income shock find the policy simulation\n",
    "K_sim[n,t+1] = Γ[Income_sim[n,t],K_sim[n,t]]\n",
    "\n",
    "# Step 11: Calculate Ks\n",
    "Ks = np.sum(K_grid[K_sim[:,-1]])/N\n",
    "\n",
    "# Step 12: Check market clearence\n",
    "Diff = Ks - Kd \n",
    "if Diff < 0:\n",
    "    print(Diff)\n",
    "    print(\"Ks < Kd\")\n",
    "    \n",
    "elif Kd_index % 10 == 0:\n",
    "    print(\"iteration of GE: \", Kd_index)\n",
    "    print(\"Difference of GE: \", Diff)"
   ]
  },
  {
   "cell_type": "code",
   "execution_count": 81,
   "metadata": {},
   "outputs": [
    {
     "data": {
      "text/plain": [
       "(0.31698501589388417, 0.04166666666666674)"
      ]
     },
     "execution_count": 81,
     "metadata": {},
     "output_type": "execute_result"
    }
   ],
   "source": [
    "w,r"
   ]
  },
  {
   "cell_type": "code",
   "execution_count": 78,
   "metadata": {},
   "outputs": [],
   "source": [
    "\n",
    "Income_sim = np.random.choice(np.arange(0,n_A), size=(N,T), p=Π_ss[0,:])"
   ]
  },
  {
   "cell_type": "code",
   "execution_count": 84,
   "metadata": {},
   "outputs": [
    {
     "data": {
      "text/plain": [
       "array([[1, 1, 1, ..., 1, 1, 1],\n",
       "       [1, 1, 1, ..., 1, 1, 1],\n",
       "       [1, 1, 1, ..., 1, 1, 1],\n",
       "       ...,\n",
       "       [1, 1, 1, ..., 1, 1, 1],\n",
       "       [1, 1, 1, ..., 1, 1, 1],\n",
       "       [1, 1, 1, ..., 1, 1, 1]])"
      ]
     },
     "execution_count": 84,
     "metadata": {},
     "output_type": "execute_result"
    }
   ],
   "source": [
    "Γ"
   ]
  },
  {
   "cell_type": "code",
   "execution_count": 80,
   "metadata": {},
   "outputs": [
    {
     "data": {
      "text/plain": [
       "array([[ 7, 10,  9, ..., 14, 14, 11],\n",
       "       [ 9,  7,  8, ..., 11,  5,  7],\n",
       "       [10,  7,  9, ..., 10,  5,  9],\n",
       "       ...,\n",
       "       [10,  7, 13, ...,  4,  6, 11],\n",
       "       [ 6,  7,  8, ...,  8, 10, 11],\n",
       "       [ 9,  7, 12, ..., 10, 14, 10]])"
      ]
     },
     "execution_count": 80,
     "metadata": {},
     "output_type": "execute_result"
    }
   ],
   "source": [
    "Income_sim"
   ]
  },
  {
   "cell_type": "code",
   "execution_count": 22,
   "metadata": {},
   "outputs": [
    {
     "data": {
      "text/plain": [
       "[<matplotlib.lines.Line2D at 0x7fa841391880>]"
      ]
     },
     "execution_count": 22,
     "metadata": {},
     "output_type": "execute_result"
    },
    {
     "data": {
      "image/png": "[encoded data removed]",
      "text/plain": [
       "<Figure size 432x288 with 1 Axes>"
      ]
     },
     "metadata": {
      "needs_background": "light"
     },
     "output_type": "display_data"
    }
   ],
   "source": [
    "\n",
    "\n",
    "plt.plot(Γ[18,800:])\n"
   ]
  },
  {
   "cell_type": "code",
   "execution_count": 23,
   "metadata": {},
   "outputs": [
    {
     "data": {
      "text/plain": [
       "array([  5,   6,   7,   8,   9,  10,  11,  12,  13,  14,  15,  16,  17,\n",
       "        18,  19,  20,  21,  22,  23,  24,  25,  26,  27,  28,  29,  30,\n",
       "        31,  32,  33,  34,  35,  36,  37,  38,  39,  40,  41,  42,  43,\n",
       "        44,  45,  46,  47,  48,  49,  50,  51,  52,  53,  54,  55,  56,\n",
       "        57,  58,  59,  60,  61,  62,  63,  64,  65,  66,  67,  67,  68,\n",
       "        69,  70,  71,  72,  73,  74,  75,  76,  77,  78,  79,  80,  81,\n",
       "        82,  83,  84,  85,  86,  87,  88,  89,  90,  91,  92,  93,  94,\n",
       "        95,  96,  97,  98,  99, 100, 101, 102, 103, 104, 105, 106, 107,\n",
       "       108, 109, 110, 111, 112, 113, 114, 115, 116, 117, 118, 119, 120,\n",
       "       121, 122, 123, 124, 125, 126, 127, 128, 129, 130, 131, 132, 133,\n",
       "       134, 135, 136, 137, 138, 139, 140, 141, 142, 143, 144, 145, 146,\n",
       "       147, 148, 149, 150, 151, 152, 153, 154, 155, 156, 157, 158, 159,\n",
       "       160, 161, 162, 163, 164, 165, 166, 167, 168, 169, 170, 171, 172,\n",
       "       173, 174, 175, 176, 177, 178, 179, 180, 181, 182, 183, 184, 185,\n",
       "       186, 187, 188, 189, 190, 191, 192, 193, 194, 195, 196, 197, 198,\n",
       "       199, 200, 201, 202, 203, 204, 205, 206, 207, 208, 209, 210, 211,\n",
       "       212, 213, 214, 215, 216, 217, 218, 219, 220, 221, 222, 223, 224,\n",
       "       225, 226, 227, 228, 229, 230, 231, 232, 233, 234, 235, 236, 237,\n",
       "       238, 239, 240, 241, 242, 243, 244, 245, 246, 247, 248, 249, 250,\n",
       "       251, 252, 253, 254, 255, 256, 257, 258, 259, 260, 261, 262, 263,\n",
       "       264, 265, 266, 267, 268, 269, 270, 271, 272, 273, 274, 275, 276,\n",
       "       277, 278, 279, 280, 281, 282, 283, 284, 285, 286, 287, 288, 289,\n",
       "       290, 291, 292, 293, 294, 295, 296, 297, 298, 299, 300, 301, 302,\n",
       "       303, 304, 305, 306, 307, 308, 309, 310, 311, 312, 313, 314, 315,\n",
       "       316, 317, 318, 319, 320, 321, 322, 323, 324, 325, 326, 327, 328,\n",
       "       329, 330, 331, 332, 333, 334, 335, 336, 337, 338, 339, 340, 341,\n",
       "       342, 343, 344, 345, 346, 347, 348, 349, 350, 351, 352, 353, 354,\n",
       "       355, 356, 357, 358, 359, 360, 361, 362, 363, 364, 365, 366, 367,\n",
       "       368, 369, 370, 371, 372, 373, 374, 375, 376, 377, 378, 379, 380,\n",
       "       381, 382, 383, 384, 385, 386, 387, 388, 389, 390, 391, 392, 393,\n",
       "       394, 395, 396, 397, 398, 399, 400, 401, 402, 403, 404, 405, 406,\n",
       "       407, 408, 409, 410, 411, 412, 413, 414, 415, 416, 417, 418, 419,\n",
       "       420, 421, 422, 423, 424, 425, 426, 427, 428, 429, 430, 431, 432,\n",
       "       433, 434, 435, 436, 437, 438, 439, 440, 441, 442, 443, 444, 445,\n",
       "       446, 447, 448, 449, 450, 451, 452, 453, 454, 455, 456, 457, 458,\n",
       "       459, 460, 461, 462, 463, 464, 465, 466, 467, 468, 469, 470, 471,\n",
       "       472, 473, 474, 475, 476, 477, 478, 479, 480, 481, 482, 483, 484,\n",
       "       485, 486, 487, 488, 489, 490, 491, 492, 493, 494, 495, 496, 497,\n",
       "       498, 499, 500, 501, 502, 503, 504, 505, 506, 507, 508, 509, 510,\n",
       "       511, 512, 513, 514, 515, 516, 517, 518, 519, 520, 521, 522, 523,\n",
       "       524, 525, 526, 527, 528, 529, 529, 530, 531, 532, 533, 534, 535,\n",
       "       536, 537, 538, 539, 540, 541, 542, 543, 544, 545, 546, 547, 548,\n",
       "       549, 550, 551, 552, 553, 554, 555, 556, 557, 558, 559, 560, 561,\n",
       "       562, 563, 564, 565, 566, 567, 568, 569, 570, 571, 572, 573, 574,\n",
       "       575, 576, 577, 578, 579, 580, 581, 582, 583, 584, 585, 586, 587,\n",
       "       588, 589, 590, 591, 592, 593, 594, 595, 596, 597, 598, 599, 600,\n",
       "       601, 602, 603, 604, 605, 606, 607, 608, 609, 610, 611, 612, 613,\n",
       "       614, 615, 616, 617, 618, 619, 620, 621, 622, 623, 624, 625, 626,\n",
       "       627, 628, 629, 630, 631, 632, 633, 634, 635, 636, 637, 638, 639,\n",
       "       640, 641, 642, 643, 644, 645, 646, 647, 648, 649, 650, 651, 652,\n",
       "       653, 654, 655, 656, 657, 658, 659, 660, 661, 662, 663, 664, 665,\n",
       "       666, 667, 668, 669, 670, 671, 672, 673, 674, 675, 676, 677, 678,\n",
       "       679, 680, 681, 682, 683, 684, 685, 686, 687, 688, 689, 690, 691,\n",
       "       692, 693, 694, 695, 696, 697, 698, 699, 700, 701, 702, 703, 704,\n",
       "       705, 706, 707, 708, 709, 710, 711, 712, 713, 714, 715, 716, 717,\n",
       "       718, 719, 720, 721, 722, 723, 724, 725, 726, 727, 728, 729, 730,\n",
       "       731, 732, 733, 734, 735, 736, 737, 738, 739, 740, 741, 742, 743,\n",
       "       744, 745, 746, 747, 748, 749, 750, 751, 752, 753, 754, 755, 756,\n",
       "       757, 758, 759, 760, 761, 762, 763, 764, 765, 766, 767, 768, 769,\n",
       "       770, 771, 772, 773, 774, 775, 776, 777, 778, 779, 780, 781, 782,\n",
       "       783, 784, 785, 786, 787, 788, 789, 790, 791, 792, 793, 794, 795,\n",
       "       796, 797, 798, 799, 800, 801, 802, 803, 804, 805, 806, 807, 808,\n",
       "       809, 810, 811, 812, 813, 814, 815, 816, 817, 818, 819, 820, 821,\n",
       "       822, 823, 824, 825, 826, 827, 828, 829, 830, 831, 832, 833, 834,\n",
       "       835, 836, 837, 838, 839, 840, 841, 842, 843, 844, 845, 846, 847,\n",
       "       848, 849, 850, 851, 852, 853, 854, 855, 856, 857, 858, 859, 860,\n",
       "       861, 862, 863, 864, 865, 866, 867, 868, 869, 870, 871, 872, 873,\n",
       "       874, 875, 876, 877, 878, 879, 880, 881, 882, 883, 884, 885, 886,\n",
       "       887, 888, 889, 890, 891, 892, 893, 894, 895, 896, 897, 898, 899,\n",
       "       900, 901, 902, 903, 904, 905, 906, 907, 908, 909, 910, 911, 912,\n",
       "       913, 914, 915, 916, 917, 918, 919, 920, 921, 922, 923, 924, 925,\n",
       "       926, 927, 928, 929, 930, 931, 932, 933, 934, 935, 936, 937, 938,\n",
       "       939, 940, 941, 942, 943, 944, 945, 946, 947, 948, 949, 950, 951,\n",
       "       952, 953, 954, 955, 956, 957, 958, 959, 960, 961, 962, 963, 964,\n",
       "       965, 966, 967, 968, 969, 970, 971, 972, 973, 974, 974, 976, 976,\n",
       "       978, 979, 979, 980, 981, 982, 983, 984, 985, 986, 987, 988, 989,\n",
       "       990, 991, 992, 993, 994, 995, 996, 996, 997, 998, 999, 999])"
      ]
     },
     "execution_count": 23,
     "metadata": {},
     "output_type": "execute_result"
    }
   ],
   "source": [
    "Γ[18,:]"
   ]
  },
  {
   "cell_type": "code",
   "execution_count": null,
   "metadata": {},
   "outputs": [],
   "source": [
    "?plt.plot()"
   ]
  },
  {
   "cell_type": "code",
   "execution_count": 298,
   "metadata": {},
   "outputs": [
    {
     "data": {
      "text/plain": [
       "array([1., 1., 1., 1., 1., 1., 1., 1., 1., 1., 1., 1., 1., 1., 1., 1., 1.,\n",
       "       1., 1.])"
      ]
     },
     "execution_count": 298,
     "metadata": {},
     "output_type": "execute_result"
    }
   ],
   "source": [
    "L = np.dot(Π_ss, A)\n",
    "\n",
    "L"
   ]
  },
  {
   "attachments": {},
   "cell_type": "markdown",
   "metadata": {},
   "source": [
    "As you can see, our labor supply is centered at 1, so we can cancel out L in w,r computations"
   ]
  },
  {
   "attachments": {},
   "cell_type": "markdown",
   "metadata": {},
   "source": [
    "From Aiyagari, we know that $r < \\lambda \\equiv \\dfrac{(1-β)}{β}$"
   ]
  },
  {
   "cell_type": "code",
   "execution_count": 299,
   "metadata": {},
   "outputs": [],
   "source": [
    "lam = (1-β)/β"
   ]
  },
  {
   "cell_type": "code",
   "execution_count": 300,
   "metadata": {},
   "outputs": [
    {
     "data": {
      "text/plain": [
       "12144.070294475914"
      ]
     },
     "execution_count": 300,
     "metadata": {},
     "output_type": "execute_result"
    }
   ],
   "source": [
    "(lam/α)**(1/(α-1))"
   ]
  },
  {
   "cell_type": "code",
   "execution_count": 2,
   "metadata": {},
   "outputs": [
    {
     "ename": "NameError",
     "evalue": "name 'K' is not defined",
     "output_type": "error",
     "traceback": [
      "\u001b[0;31m---------------------------------------------------------------------------\u001b[0m",
      "\u001b[0;31mNameError\u001b[0m                                 Traceback (most recent call last)",
      "\u001b[1;32m/Users/hamecetin/Documents/GitHub/Quantitative_Methods_2/PS5/Cetin_Belmudes_ECON8185_PS5.ipynb Cell 17\u001b[0m in \u001b[0;36m<cell line: 2>\u001b[0;34m()\u001b[0m\n\u001b[1;32m      <a href='vscode-notebook-cell:/Users/hamecetin/Documents/GitHub/Quantitative_Methods_2/PS5/Cetin_Belmudes_ECON8185_PS5.ipynb#Y102sZmlsZQ%3D%3D?line=0'>1</a>\u001b[0m \u001b[39m# Finding GE\u001b[39;00m\n\u001b[0;32m----> <a href='vscode-notebook-cell:/Users/hamecetin/Documents/GitHub/Quantitative_Methods_2/PS5/Cetin_Belmudes_ECON8185_PS5.ipynb#Y102sZmlsZQ%3D%3D?line=1'>2</a>\u001b[0m \u001b[39mfor\u001b[39;00m Kd_index, Kd \u001b[39min\u001b[39;00m \u001b[39menumerate\u001b[39m(K[\u001b[39m-\u001b[39m\u001b[39m1\u001b[39m::\u001b[39m-\u001b[39m\u001b[39m1\u001b[39m]):\n\u001b[1;32m      <a href='vscode-notebook-cell:/Users/hamecetin/Documents/GitHub/Quantitative_Methods_2/PS5/Cetin_Belmudes_ECON8185_PS5.ipynb#Y102sZmlsZQ%3D%3D?line=2'>3</a>\u001b[0m     \u001b[39m# Step 1: Calculate the prices given Kd:\u001b[39;00m\n\u001b[1;32m      <a href='vscode-notebook-cell:/Users/hamecetin/Documents/GitHub/Quantitative_Methods_2/PS5/Cetin_Belmudes_ECON8185_PS5.ipynb#Y102sZmlsZQ%3D%3D?line=3'>4</a>\u001b[0m     w \u001b[39m=\u001b[39m (\u001b[39m1\u001b[39m\u001b[39m-\u001b[39mα)\u001b[39m*\u001b[39m(Kd\u001b[39m*\u001b[39m\u001b[39m*\u001b[39m(α))\n\u001b[1;32m      <a href='vscode-notebook-cell:/Users/hamecetin/Documents/GitHub/Quantitative_Methods_2/PS5/Cetin_Belmudes_ECON8185_PS5.ipynb#Y102sZmlsZQ%3D%3D?line=4'>5</a>\u001b[0m     r \u001b[39m=\u001b[39m α \u001b[39m*\u001b[39m (Kd\u001b[39m*\u001b[39m\u001b[39m*\u001b[39m(α\u001b[39m-\u001b[39m\u001b[39m1\u001b[39m))\n",
      "\u001b[0;31mNameError\u001b[0m: name 'K' is not defined"
     ]
    }
   ],
   "source": [
    "# Finding GE\n",
    "for Kd_index, Kd in enumerate(K[-1::-1]):\n",
    "    # Step 1: Calculate the prices given Kd:\n",
    "    w = (1-α)*(Kd**(α))\n",
    "    r = α * (Kd**(α-1))\n",
    "\n",
    "    # Step 2: Define initial values to calculate PFI:\n",
    "    V_0 = np.ones((n_A, n_k))\n",
    "    V_1 = np.copy(V_0)\n",
    "    Γ = np.ones((n_A, n_k), dtype=int)\n",
    "    iter = 0\n",
    "\n",
    "    # Step 3: Use PFI to find the value and policy function of the consumer given prices w,r\n",
    "    while iter < max_iter:\n",
    "        # Finding Policy function\n",
    "        for z in range(n_A):\n",
    "            for k in range(n_k):\n",
    "                V_1[z,k] = np.nanmax(U(A[z] * w + K[k] * (1+r) - K) + β * Π[z,:] @ V_0)\n",
    "                Γ[z,k] = np.nanargmax(U(A[z] * w + K[k] * (1+r) - K) + β * Π[z,:] @ V_0)\n",
    "\n",
    "        # Howard Steps\n",
    "        m = 10 # Howard step size\n",
    "        for i in range(m):\n",
    "            for z in range(n_A):\n",
    "                for k in range(n_k):\n",
    "                    V_1[z,k] = U(A[z] * w + K[k] * (1+r) - K[Γ[z,k]]) + β * Π[z,:] @ V_1[:,Γ[z,k]]        \n",
    "        \n",
    "        # Checking convergence\n",
    "        if np.amax(np.abs(V_1 - V_0))< error:\n",
    "            # print(\"Solution Found\")\n",
    "            # print(f'Iterations', iter)\n",
    "            # print(f'Error', np.amax(np.abs(V_1 - V_0)))\n",
    "            break\n",
    "        else:\n",
    "            V_0 = np.copy(V_1)\n",
    "            iter += 1\n",
    "            if iter >= max_iter:\n",
    "                break_flag = True\n",
    "                break\n",
    "    \n",
    "    # If No convergence of the value function the program breaks\n",
    "    if break_flag == True:\n",
    "        print(\"No solution\")\n",
    "        break\n",
    "\n",
    "    # Simulation to find Ks\n",
    "    # Step 4: Create income shock simulation, need to use uniform rv to be able to use Π Markov Process\n",
    "    Shock_sim = np.random.uniform(size=(N,T))\n",
    "    \n",
    "    # Step 5: Create Income simulation grid (it gives the income shock indexes) and Policy simulation grid\n",
    "    Income_sim = np.zeros((N,T+1)).astype(int)\n",
    "    K_sim = np.zeros((N,T+1)).astype(int)\n",
    "    \n",
    "    # Assumption: Assume each agent starts with mean income and least capital possible\n",
    "    Income_sim[:,0] = int(n_A//2)\n",
    "    K_sim[:,0] = 0\n",
    "\n",
    "    for n in range(N):\n",
    "        for t in range(T):\n",
    "            # Finding the income simulation\n",
    "            new_shock = np.searchsorted(Π_sim[Income_sim[n,t],:], Shock_sim[n,t])\n",
    "            Income_sim[n,t+1] = new_shock.astype(int)\n",
    "\n",
    "            # In case np.searchsorted() function messes up\n",
    "            # It is 0 possibility but if the uniform shock is exactly 1 then function messes up\n",
    "            if new_shock >= n_A: \n",
    "                print(\"np.searchsorted is messed up!\")\n",
    "                break\n",
    "\n",
    "            # Given income shock find the policy simulation\n",
    "            K_sim[n,t+1] = Γ[Income_sim[n,t],K_sim[n,t]]\n",
    "  \n",
    "    # Step 11: Calculate Ks\n",
    "    Ks = np.sum(K_grid[K_sim[:,-1]])/N\n",
    "\n",
    "    # Step 12: Check market clearence\n",
    "    Diff = Ks - Kd \n",
    "    if Diff < 0:\n",
    "        print(Diff)\n",
    "        print(\"Ks < Kd\")\n",
    "        break\n",
    "    elif Kd_index % 10 == 0:\n",
    "        print(\"iteration of GE: \", Kd_index)\n",
    "        print(\"Difference of GE: \", Diff)\n",
    "\n",
    "    # If Market clears finish the program \n",
    "    if Diff < error:\n",
    "        w_eq, r_eq = w, r # Equilibrium Prices\n",
    "        Kd_eq = Kd        # Equilibrium Capital\n",
    "        Sim_path_eq = K_sim # Simulation path in equilibrium prices\n",
    "        break\n",
    "    \n",
    "    # To create a space in our beloved RAM, we erase this gigantic simulation grids. \n",
    "    del Shock_sim\n",
    "    del Income_sim\n",
    "    del K_sim\n",
    "    \n"
   ]
  },
  {
   "cell_type": "code",
   "execution_count": 310,
   "metadata": {},
   "outputs": [],
   "source": [
    "lam = (1-β)/β"
   ]
  },
  {
   "cell_type": "code",
   "execution_count": 312,
   "metadata": {},
   "outputs": [
    {
     "data": {
      "text/plain": [
       "[<matplotlib.lines.Line2D at 0x7f7e0a40e610>]"
      ]
     },
     "execution_count": 312,
     "metadata": {},
     "output_type": "execute_result"
    },
    {
     "data": {
      "image/png": "[encoded data removed]",
      "text/plain": [
       "<Figure size 432x288 with 1 Axes>"
      ]
     },
     "metadata": {
      "needs_background": "light"
     },
     "output_type": "display_data"
    }
   ],
   "source": [
    "plt.plot(α*(K[-200:]**(α-1)))\n",
    "plt.plot(lam * np.ones(K[-200:].shape))"
   ]
  },
  {
   "cell_type": "code",
   "execution_count": 256,
   "metadata": {},
   "outputs": [
    {
     "data": {
      "text/plain": [
       "3"
      ]
     },
     "execution_count": 256,
     "metadata": {},
     "output_type": "execute_result"
    }
   ],
   "source": [
    "np.searchsorted(Π_sim[3, :], Shock_sim[0,0])"
   ]
  },
  {
   "cell_type": "code",
   "execution_count": 257,
   "metadata": {},
   "outputs": [
    {
     "data": {
      "text/plain": [
       "0.0"
      ]
     },
     "execution_count": 257,
     "metadata": {},
     "output_type": "execute_result"
    }
   ],
   "source": [
    "Income_sim[3,5]"
   ]
  },
  {
   "cell_type": "code",
   "execution_count": null,
   "metadata": {},
   "outputs": [],
   "source": []
  }
 ],
 "metadata": {
  "kernelspec": {
   "display_name": "base",
   "language": "python",
   "name": "python3"
  },
  "language_info": {
   "codemirror_mode": {
    "name": "ipython",
    "version": 3
   },
   "file_extension": ".py",
   "mimetype": "text/x-python",
   "name": "python",
   "nbconvert_exporter": "python",
   "pygments_lexer": "ipython3",
   "version": "3.8.8"
  },
  "orig_nbformat": 4,
  "vscode": {
   "interpreter": {
    "hash": "4cb68feeda358cd999e6c5ea40a6d1740fd7be6f357c97f27cdc2dc32d902bae"
   }
  }
 },
 "nbformat": 4,
 "nbformat_minor": 2
}

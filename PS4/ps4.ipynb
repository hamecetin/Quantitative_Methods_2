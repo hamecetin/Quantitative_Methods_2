{
 "cells": [
  {
   "cell_type": "code",
   "execution_count": 4,
   "metadata": {},
   "outputs": [],
   "source": [
    "import quantecon as qe\n",
    "import numpy as np\n",
    "import scipy\n",
    "import matplotlib.pyplot as plt\n",
    "from scipy.interpolate import CubicSpline\n",
    "from scipy import optimize"
   ]
  },
  {
   "cell_type": "markdown",
   "metadata": {},
   "source": [
    "### Endogenous Grid Method\n",
    "\n",
    "Problem:\n",
    "\n",
    "#### Standard VFI Form:\n",
    "\n",
    "$$V_{n+1}(k_i , z_j) = \\max_{k'} \\left\\{\\dfrac{(z_jk_i^\\alpha + (1-\\delta)k_i - k')^{1-\\gamma}}{1-\\gamma} + \\beta \\mathbb{E}( V_n(k',z') | z_j)\\right\\}$$\n",
    "$$\\text{s.t. } k' \\geq k_{min}$$\n",
    "$$ln(z') = \\rho ln(z) + \\eta'$$"
   ]
  },
  {
   "cell_type": "markdown",
   "metadata": {},
   "source": [
    "#### EGM Form:\n",
    "\n",
    "$$V_{n+1}(k , z_j) = \\max_{k_i'} \\left\\{\\dfrac{(z_jk^\\alpha + (1-\\delta)k - k_i')^{1-\\gamma}}{1-\\gamma} + \\beta \\mathbb{E}( V_n(k_i',z') | z_j)\\right\\}$$\n",
    "$$\\text{s.t. } ln(z') = \\rho ln(z) + \\eta'$$"
   ]
  },
  {
   "cell_type": "markdown",
   "metadata": {},
   "source": [
    "So in the EGM form, we are creating grid for:\n",
    "- capital grid for tomorrow's values\n",
    "- Today's states\n",
    "\n",
    "To understand why this method is better than standard VFI, we need to look at the FOC that we have to solve in standard VFI and compare it the FOC of EGM:\n",
    "\n",
    "- Standard VFI: $(z_jk_i^\\alpha + (1-\\delta)k_i - k')^{-\\gamma} = \\beta \\mathbb{E}(V_k(k',z')|z_j)$\n",
    "\n",
    "- EGM: $z_k k^\\alpha + (1-\\delta)k = [\\beta \\mathbb{E}(V_k(k_i',z')|z_j)]^{\\frac{-1}{\\gamma}}+ k_i'$ \n",
    "\n",
    "Yes, even in EGM we need to solve for k (and it is a non-linear equation) but it is much easier to solve the first one for k' because we don't need to interpolate $\\mathbb{E}(V_k(k',z')|z_j)$ for each off grid k' because all the k' s are on the grid (we chose the tomorrow's capital grid). Another beautiful thing is that instead of constantly evaluating expected value for tomorrow as in Standard VFI FOC, in EGM, it is enough to compute it once.\n",
    "\n",
    "Furthermore, we can even avoid solving this non-linear equation by carefully changing the state variable from the beginning of period to end of period total **cash on hand**\n",
    "\n",
    "Define: $Y = z_jk^\\alpha + (1-\\delta)k$\n",
    "\n",
    "Then Belmann equation becomes:\n",
    "\n",
    "$$\\hat V(Y,z_j) = \\max_{k'} \\left\\{ \\dfrac{(Y-k')^{1-\\gamma}}{1-\\gamma} + \\underbrace{\\beta \\mathbb{E}(\\hat V(Y',z')|z_j)}_{\\mathbb{V}(k_i',z_j)}\\right\\}$$\n",
    "$$\\text{s.t. } Y' = z'k'^\\alpha + (1-\\delta)k'$$\n",
    "$$ k' \\geq k_{min}$$\n",
    "$$ln(z') = \\rho ln(z) + \\eta'$$"
   ]
  },
  {
   "cell_type": "code",
   "execution_count": 12,
   "metadata": {},
   "outputs": [],
   "source": [
    "# Define Parameters:\n",
    "\n",
    "n_k = 500  # Grids for capitals\n",
    "n_A = 15  # Markov States.\n",
    "δ = 0.9   # Depreciation.\n",
    "α = 0.7   # Capital Share.\n",
    "ρ = 0.98  # Memory of income\n",
    "σ = 0.02  # Volatility of income.\n",
    "β = 0.98  # Discont factor.\n",
    "θ = 1.5   # Expanding grid coefficient.\n",
    "error = 10e-6 # Error tolerance.\n",
    "max_iter = 1000\n",
    "\n",
    "markov = qe.markov.approximation.rouwenhorst(n= n_A, ybar = 1-ρ, sigma=σ, rho= ρ)\n",
    "\n",
    "Π = markov.P   \n",
    "A = markov.state_values \n",
    "\n",
    "# Maximum sustainable Capital:\n",
    "\n",
    "K_max = 2\n",
    "K_min = 0.1\n",
    "\n",
    "# Use and expanding grid:\n",
    "\n",
    "Kp = K_min + (K_max - K_min) * (np.linspace(0, 1, n_k)**θ)\n",
    "\n",
    "# Utility function\n",
    "\n",
    "def U(c):\n",
    "    if (c>=0).all()>0.0001:\n",
    "        return -1*((c)**(-1))\n",
    "    else:\n",
    "        return np.where(c <= 0.0001, np.nan, -1*(c)**(-1))\n",
    "\n",
    "#Initial Guesses\n",
    "cp = np.ones((n_k, n_A))*0.1"
   ]
  },
  {
   "cell_type": "code",
   "execution_count": 9,
   "metadata": {},
   "outputs": [
    {
     "data": {
      "text/plain": [
       "array([0.62394928, 0.67767081, 0.73139235, 0.78511388, 0.83883541,\n",
       "       0.89255694, 0.94627847, 1.        , 1.05372153, 1.10744306,\n",
       "       1.16116459, 1.21488612, 1.26860765, 1.32232919, 1.37605072])"
      ]
     },
     "execution_count": 9,
     "metadata": {},
     "output_type": "execute_result"
    }
   ],
   "source": [
    "for i,k in enumerate(Kp):\n",
    "    for j,a in enumerate(A):\n",
    "        expr = "
   ]
  },
  {
   "cell_type": "code",
   "execution_count": null,
   "metadata": {},
   "outputs": [],
   "source": []
  }
 ],
 "metadata": {
  "kernelspec": {
   "display_name": "Python 3.8.8 ('base')",
   "language": "python",
   "name": "python3"
  },
  "language_info": {
   "codemirror_mode": {
    "name": "ipython",
    "version": 3
   },
   "file_extension": ".py",
   "mimetype": "text/x-python",
   "name": "python",
   "nbconvert_exporter": "python",
   "pygments_lexer": "ipython3",
   "version": "3.8.8"
  },
  "orig_nbformat": 4,
  "vscode": {
   "interpreter": {
    "hash": "4cb68feeda358cd999e6c5ea40a6d1740fd7be6f357c97f27cdc2dc32d902bae"
   }
  }
 },
 "nbformat": 4,
 "nbformat_minor": 2
}

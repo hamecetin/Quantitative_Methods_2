{
 "cells": [
  {
   "cell_type": "code",
   "execution_count": 80,
   "metadata": {},
   "outputs": [],
   "source": [
    "import quantecon as qe\n",
    "import numpy as np\n",
    "import matplotlib.pyplot as plt\n",
    "from scipy.interpolate import CubicSpline\n",
    "from scipy import optimize"
   ]
  },
  {
   "cell_type": "markdown",
   "metadata": {},
   "source": [
    "### Endogenous Grid Method\n",
    "\n",
    "#### The Problem:\n",
    "\n",
    "#### Standard VFI Form:\n",
    "\n",
    "$$V_{n+1}(k_i , z_j) = \\max_{k'} \\left\\{\\dfrac{(z_jk_i^\\alpha + (1-\\delta)k_i - k')^{1-\\gamma}}{1-\\gamma} + \\beta \\mathbb{E}( V_n(k',z') | z_j)\\right\\}$$\n",
    "$$\\text{s.t. } k' \\geq k_{min}$$\n",
    "$$ln(z') = \\rho ln(z) + \\eta'$$"
   ]
  },
  {
   "cell_type": "markdown",
   "metadata": {},
   "source": [
    "#### EGM Form:\n",
    "\n",
    "$$V_{n+1}(k , z_j) = \\max_{k_i'} \\left\\{\\dfrac{(z_jk^\\alpha + (1-\\delta)k - k_i')^{1-\\gamma}}{1-\\gamma} + \\beta \\mathbb{E}( V_n(k_i',z') | z_j)\\right\\}$$\n",
    "$$\\text{s.t. } ln(z') = \\rho ln(z) + \\eta'$$"
   ]
  },
  {
   "cell_type": "markdown",
   "metadata": {},
   "source": [
    "So in the EGM form, we are creating grid for:\n",
    "- capital grid for tomorrow's values\n",
    "- Today's states\n",
    "\n",
    "To understand why this method is better than standard VFI, we need to look at the FOC that we have to solve in standard VFI and compare it the FOC of EGM:\n",
    "\n",
    "- Standard VFI: $(z_jk_i^\\alpha + (1-\\delta)k_i - k')^{-\\gamma} = \\beta \\mathbb{E}(V_k(k',z')|z_j)$\n",
    "\n",
    "- EGM: $z_k k^\\alpha + (1-\\delta)k = [\\beta \\mathbb{E}(V_k(k_i',z')|z_j)]^{\\frac{-1}{\\gamma}}+ k_i'$ \n",
    "\n",
    "Yes, even in EGM we need to solve for k (and it is a non-linear equation) but it is much easier to solve the first one for k' because we don't need to interpolate $\\mathbb{E}(V_k(k',z')|z_j)$ for each off grid k' because all the k' s are on the grid (we chose the tomorrow's capital grid). Another beautiful thing is that instead of constantly evaluating expected value for tomorrow as in Standard VFI FOC, in EGM, it is enough to compute it once.\n",
    "\n",
    "Furthermore, we can even avoid solving this non-linear equation by carefully changing the state variable from the beginning of period to end of period total **cash on hand**\n",
    "\n",
    "Define: $Y = z_jk^\\alpha + (1-\\delta)k$\n",
    "\n",
    "Then Belmann equation becomes:\n",
    "\n",
    "$$\\hat V(Y,z_j) = \\max_{k'} \\left\\{ \\dfrac{(Y-k')^{1-\\gamma}}{1-\\gamma} + \\underbrace{\\beta \\mathbb{E}(\\hat V(Y',z')|z_j)}_{\\mathbb{V}(k_i',z_j)}\\right\\}$$\n",
    "$$\\text{s.t. } Y' = z'k'^\\alpha + (1-\\delta)k'$$\n",
    "$$ k' \\geq k_{min}$$\n",
    "$$ln(z') = \\rho ln(z) + \\eta'$$\n",
    "\n",
    "More simply:\n",
    "\n",
    "$$\\hat V(Y,z_j) = \\max_{k'} \\left\\{ \\dfrac{(Y-k')^{1-\\gamma}}{1-\\gamma} + \\mathbb{V}(k_i',z_j)\\right\\}$$\n",
    "$$\\text{s.t. } Y' = z'k'^\\alpha + (1-\\delta)k'$$\n",
    "$$ k' \\geq k_{min}$$\n",
    "$$ln(z') = \\rho ln(z) + \\eta'$$\n",
    "\n",
    "From FOC:\n",
    "\n",
    "$$ c^*(k_i', z_j)^{-γ}  = \\mathbb{V}_k(k_i', z_j)$$\n",
    "\n",
    "From this equation, obtain $c^*$ and use it in the resource constraint to find $Y^*$:\n",
    "\n",
    "$$Y^*(k_i',z_j) = c^*(k_i', z_j) + k_i'$$\n",
    "\n",
    "Remember, this shows that in order to $k_i'$ to be selected tomorrow, you need to have this $Y^*(k_i',z_j)$ today at the end of the period. (we changed the timing)\n",
    "\n",
    "And with this cash in hands today, we can find LHS of the value function as:\n",
    "\n",
    "$$\\hat V(Y^*(k_i',z_j),z_j) =\\dfrac{(c^*(k_i',z_j))^{1-\\gamma}}{1-\\gamma} + \\mathbb{V}(k_i',z_j) $$\n",
    "\n",
    "Therefore, given tomorrow's capital grid and today's shock grid, we are able to find today's state variable $Y^*$ and by using interpolation, we are able to find the values $\\hat V$ on the capital grid. Then, as in standarda VFI, we will update our value function with this newly founded value function and keep iterating the process until convergence. The algorithm is summarized below:\n",
    "\n",
    "**Algorithm:**\n",
    "- Step 0: Choose an initial guess $\\mathbb{V}_0$ which has the dimension of $n_k$ x $n_z$ and create grids for $c^*,Y', Y^*, \\text{Values}, \\text{Interpolated \n",
    "Values}$ of the same dimension.\n",
    "\n",
    "- Step 1: Create cash in hands matrix $Y' = Z K^\\alpha + (1-δ)K$\n",
    "\n",
    "- Step 2: Use the production function $zk^α$ as your initial guess. (instead of using zero value function, we need to have well behaved concave value function because if we use a constant value initial guess like zeros, then $\\mathbb{V}_k$ is just zero and we are stuck.)\n",
    "\n",
    "- Step 3: Given $\\mathbb{V}_n$, get $c^*_{n}$ by using the FOC: $c^*(k_i',z_j) = \\mathbb{V}_n'(k_i',z_j)^{\\frac{-1}{γ}}$\n",
    "\n",
    "- Step 4: After finding  $c^*$, get the today's end of period resources by $Y^*(k_i',z_j) = c^*(k_i', z_j) + k_i'$\n",
    "\n",
    "- Bonus: To find k today, solve the non linear equation $Y^*[i,j] = z_j k^α + (1-δ)k$ for k.\n",
    "\n",
    "- Step 5: Given $\\mathbb{V}_n$ and computed get $c^*_{n}$, find the today's values by: $ \\text{Values} =\\dfrac{(c^*_n)^{1-\\gamma}}{1-\\gamma} + \\mathbb{V}_n $\n",
    "\n",
    "- Step 6: You have today's end of period cash in hand $Y^*_n$ from step 2 and corresponding values $Values$ from step 3. To get the values for on the grid $Y'$, do interpolation (do the interpolation for $Y'[k_i', z_j]$ by using the pair $(Y^*[:, z_j],Values[:,z_j])$, for each $k_i$, for each $z_j$) and get $Interpolated Values$ for $Y'$\n",
    "\n",
    "- Step 7: Update your value function by: $\\mathbb{V}_{n+1}(k'i, z_j) = β \\mathbb{E}[\\text{Interpolated Values}[k_i', :]|z_j] $\n",
    "\n",
    "- Step 8: Iterate until convergence.\n",
    "\n",
    "\n"
   ]
  },
  {
   "cell_type": "code",
   "execution_count": 72,
   "metadata": {},
   "outputs": [],
   "source": [
    "# Define Parameters:\n",
    "\n",
    "n_k = 500  # Grids for capitals\n",
    "n_A = 15  # Markov States.\n",
    "δ = 0.9   # Depreciation.\n",
    "α = 0.7   # Capital Share.\n",
    "ρ = 0.98  # Memory of income\n",
    "σ = 0.01  # Volatility of income.\n",
    "β = 0.98  # Discont factor.\n",
    "θ = 1.5   # Expanding grid coefficient.\n",
    "error = 10e-6 # Error tolerance.\n",
    "max_iter = 1000 # Maximum iteration\n",
    "\n",
    "#Create aux variables for iteration\n",
    "dist = 1000\n",
    "iteration = 0\n",
    "\n",
    "#Discretizing shocks\n",
    "markov = qe.markov.approximation.rouwenhorst(n= n_A, ybar = 1-ρ, sigma=σ, rho= ρ)\n",
    "Π = markov.P   \n",
    "A = markov.state_values \n",
    "\n",
    "# Maximum sustainable Capital:\n",
    "K_max = 2\n",
    "K_min = 0.001\n",
    "\n",
    "# Use and expanding grid for more accuracy:\n",
    "Kp = K_min + (K_max - K_min) * (np.linspace(0, 1, n_k)**θ)\n",
    "\n",
    "#Step 0: Some necessary matrices for computation\n",
    "V_k = np.zeros((n_A,n_k))\n",
    "c_star = np.zeros((n_A,n_k))\n",
    "Y_star = np.zeros((n_A,n_k))\n",
    "value = np.zeros((n_A,n_k))\n",
    "Realvalue = np.zeros((n_A,n_k))\n",
    "\n",
    "#Step 1: Creating on grid cash in hands matrix\n",
    "Y_prime = np.zeros((n_A,n_k))\n",
    "for i in range(n_A):\n",
    "    for j in range(n_k):\n",
    "        Y_prime[i,j] = A[i]* (Kp[j]** α)  + (1-δ)*Kp[j]\n",
    "\n",
    "#Step 2: Initial guess\n",
    "V_0 = np.zeros((n_A,n_k))\n",
    "for i in range(n_A):\n",
    "    for j in range(n_k):\n",
    "        V_0[i,j] = Kp[j]**(α) * A[i]"
   ]
  },
  {
   "cell_type": "code",
   "execution_count": 73,
   "metadata": {},
   "outputs": [
    {
     "name": "stdout",
     "output_type": "stream",
     "text": [
      "iteration:  50\n",
      "dist:  2.991585561326474\n",
      "iteration:  100\n",
      "dist:  0.9192595337162857\n",
      "iteration:  150\n",
      "dist:  0.31527997242960737\n",
      "iteration:  200\n",
      "dist:  0.11236158800937801\n",
      "iteration:  250\n",
      "dist:  0.040599274341275304\n",
      "iteration:  300\n",
      "dist:  0.014742950496156482\n",
      "iteration:  350\n",
      "dist:  0.0053633694094514794\n",
      "iteration:  400\n",
      "dist:  0.0019524390016840698\n",
      "iteration:  450\n",
      "dist:  0.0007109213091780475\n",
      "iteration:  500\n",
      "dist:  0.0002588830203080761\n",
      "iteration:  550\n",
      "dist:  9.427562747532647e-05\n",
      "iteration:  600\n",
      "dist:  3.433209735703713e-05\n",
      "iteration:  650\n",
      "dist:  1.2502679055614863e-05\n"
     ]
    }
   ],
   "source": [
    "delta = 10e-4\n",
    "while dist > error and iteration < max_iter:\n",
    "    for i in range(n_A):\n",
    "        #Step 3: Doing the numerical derivative of the value matrix wrt k to get c_star\n",
    "        V_spline = CubicSpline(Kp,V_0[i,:])\n",
    "        c_star[i,:] = ((V_spline(Kp + delta) - V_spline(Kp - delta))/ (2*delta))**(-1/2)\n",
    "    \n",
    "    #Step 4: Finding Y_star\n",
    "    Y_star = c_star + Kp\n",
    "    \n",
    "    #Step 5: Finding corresponding values\n",
    "    Values = -c_star **(-1) + V_0\n",
    "    \n",
    "\n",
    "    for i in range(n_A):\n",
    "        Y_i = Y_star[i,:]\n",
    "        V_i = Values[i,:]\n",
    "\n",
    "        #We need to sort Y_star to be able to interpolate\n",
    "        sort_index = np.argsort(Y_i)\n",
    "        Y_i_sorted = Y_i[sort_index]\n",
    "        V_i_sorted = V_i[sort_index]\n",
    "\n",
    "        #Step 6: Interpolate to get on grid values\n",
    "        interpolation = CubicSpline(Y_i_sorted, V_i_sorted)\n",
    "        Realvalue[i,:] = interpolation(Y_prime[i,:])\n",
    "\n",
    "    #Step 7: Update your value\n",
    "    V_1 = β * np.dot(Π, Realvalue)\n",
    "\n",
    "    #Step 8: Check your\n",
    "    dist = np.max(np.abs(V_1 - V_0))\n",
    "    iteration += 1\n",
    "\n",
    "    #Step 7: Update your value\n",
    "    V_0 = V_1.copy()\n",
    "\n",
    "    if iteration % 50 == 0:\n",
    "        print('iteration: ', iteration)\n",
    "        print('dist: ', dist)"
   ]
  },
  {
   "cell_type": "code",
   "execution_count": 74,
   "metadata": {},
   "outputs": [
    {
     "data": {
      "text/plain": [
       "array([[-994.07850316, -946.58067827, -883.26740371, ..., -385.60847301,\n",
       "        -385.566574  , -385.52479147],\n",
       "       [-943.47001983, -898.18176305, -837.85220392, ..., -366.55491312,\n",
       "        -366.51588008, -366.47695588],\n",
       "       [-897.03950302, -853.78511521, -796.20247005, ..., -349.025232  ,\n",
       "        -348.9887879 , -348.95244573],\n",
       "       ...,\n",
       "       [-585.72907986, -556.42041439, -517.52914833, ..., -230.2783678 ,\n",
       "        -230.25810578, -230.237902  ],\n",
       "       [-564.8476    , -536.49144695, -498.88008454, ..., -222.23546226,\n",
       "        -222.21619971, -222.19699269],\n",
       "       [-545.21971287, -517.76161584, -481.35693108, ..., -214.66623727,\n",
       "        -214.64790263, -214.62962095]])"
      ]
     },
     "execution_count": 74,
     "metadata": {},
     "output_type": "execute_result"
    }
   ],
   "source": [
    "V_1"
   ]
  },
  {
   "cell_type": "code",
   "execution_count": 88,
   "metadata": {},
   "outputs": [
    {
     "data": {
      "image/png": "[encoded data removed]",
      "text/plain": [
       "<Figure size 432x288 with 1 Axes>"
      ]
     },
     "metadata": {
      "needs_background": "light"
     },
     "output_type": "display_data"
    }
   ],
   "source": [
    "fig, ax = plt.subplots()\n",
    "for i in range(n_A//2):\n",
    "    ax.plot(Kp,V_1[2*i,:], label=f'A = {np.round(A[2*i],2)}')\n",
    "ax.set_xlabel(\"K'\")\n",
    "ax.set_ylabel(\"Value\")\n",
    "ax.set_title(f'Value functions for different shocks')\n",
    "ax.legend()\n",
    "plt.show()\n"
   ]
  },
  {
   "cell_type": "code",
   "execution_count": null,
   "metadata": {},
   "outputs": [],
   "source": []
  }
 ],
 "metadata": {
  "kernelspec": {
   "display_name": "Python 3.8.8 ('base')",
   "language": "python",
   "name": "python3"
  },
  "language_info": {
   "codemirror_mode": {
    "name": "ipython",
    "version": 3
   },
   "file_extension": ".py",
   "mimetype": "text/x-python",
   "name": "python",
   "nbconvert_exporter": "python",
   "pygments_lexer": "ipython3",
   "version": "3.8.8"
  },
  "orig_nbformat": 4,
  "vscode": {
   "interpreter": {
    "hash": "4cb68feeda358cd999e6c5ea40a6d1740fd7be6f357c97f27cdc2dc32d902bae"
   }
  }
 },
 "nbformat": 4,
 "nbformat_minor": 2
}
